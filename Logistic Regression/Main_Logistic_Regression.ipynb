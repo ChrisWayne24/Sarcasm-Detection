{
 "cells": [
  {
   "cell_type": "markdown",
   "metadata": {},
   "source": [
    "# Sarcasm detection through Logistic regression for headlines"
   ]
  },
  {
   "cell_type": "markdown",
   "metadata": {},
   "source": [
    "### Import Required Libraries"
   ]
  },
  {
   "cell_type": "code",
   "execution_count": 1,
   "metadata": {},
   "outputs": [],
   "source": [
    "import pandas as pd\n",
    "import numpy as np\n",
    "import matplotlib.pyplot as plt\n",
    "from sklearn.feature_extraction.text import TfidfVectorizer\n",
    "from sklearn.model_selection import train_test_split\n",
    "from sklearn.metrics import confusion_matrix\n",
    "from sklearn.metrics import accuracy_score\n",
    "from sklearn.metrics import recall_score\n",
    "from sklearn.metrics import precision_score\n",
    "from sklearn.metrics import f1_score"
   ]
  },
  {
   "cell_type": "markdown",
   "metadata": {},
   "source": [
    "### Function to add a bias term to dataset"
   ]
  },
  {
   "cell_type": "code",
   "execution_count": 2,
   "metadata": {},
   "outputs": [],
   "source": [
    "def append_bias_term(a):\n",
    "    \n",
    "    b = np.ones((a.shape[0],1))\n",
    "    a = np.hstack((b, a))\n",
    "    \n",
    "    return a"
   ]
  },
  {
   "cell_type": "markdown",
   "metadata": {},
   "source": [
    "### Function to calculate normalization parameters"
   ]
  },
  {
   "cell_type": "code",
   "execution_count": 3,
   "metadata": {},
   "outputs": [],
   "source": [
    "def n_params(a):\n",
    "    \n",
    "    mean = np.mean(a, axis=0)\n",
    "    standard_dev = np.std(a, axis=0)\n",
    "    \n",
    "    return mean, standard_dev"
   ]
  },
  {
   "cell_type": "markdown",
   "metadata": {},
   "source": [
    "### Function to perform normalization on dataset"
   ]
  },
  {
   "cell_type": "code",
   "execution_count": 4,
   "metadata": {},
   "outputs": [],
   "source": [
    "def n_feat(a, mean, standard_dev):\n",
    "    \n",
    "    a = (a - mean) / (standard_dev + 1e-8)\n",
    "    \n",
    "    return a"
   ]
  },
  {
   "cell_type": "markdown",
   "metadata": {},
   "source": [
    "### Logistic Regression model"
   ]
  },
  {
   "cell_type": "code",
   "execution_count": 5,
   "metadata": {},
   "outputs": [],
   "source": [
    "def h(a, Theta):\n",
    "    \n",
    "    b = 1.0/(1.0 + np.exp(-np.dot(a, Theta)))\n",
    "    \n",
    "    return b"
   ]
  },
  {
   "cell_type": "code",
   "execution_count": 6,
   "metadata": {},
   "outputs": [],
   "source": [
    "def prediction_func(a, Theta, h, thresh=0.50):\n",
    "    \n",
    "    b = h(a, Theta)\n",
    "    b = (b>thresh) * 1\n",
    "    \n",
    "    return b"
   ]
  },
  {
   "cell_type": "markdown",
   "metadata": {},
   "source": [
    "### Batch gradient descent learning"
   ]
  },
  {
   "cell_type": "code",
   "execution_count": 20,
   "metadata": {},
   "outputs": [],
   "source": [
    "def param_learn(a, b, theta, h, alpha, iter_max=300):\n",
    "    iteration = 1\n",
    "    J_store = []\n",
    "    num = a.shape[0]\n",
    "    \n",
    "    while True:\n",
    "        \n",
    "        error = (h(a, theta) - b)\n",
    "        J_store.append(1.0/(2*num) * np.sum(error**2))\n",
    "        a_error = (a * error)\n",
    "        theta = theta - alpha * np.mean(a_error, axis=0)[:,np.newaxis]\n",
    "        \n",
    "        if iteration > iter_max:\n",
    "            break\n",
    "        iteration += 1\n",
    "        \n",
    "    return theta, J_store"
   ]
  },
  {
   "cell_type": "markdown",
   "metadata": {},
   "source": [
    "### Read in preprocessed dataset and perform split"
   ]
  },
  {
   "cell_type": "code",
   "execution_count": 9,
   "metadata": {},
   "outputs": [],
   "source": [
    "dataset = pd.read_csv('Pre-processed_Sarcasm_Headlines_Dataset.csv')\n",
    "\n",
    "x_1, x_2, y_1, y_2 = train_test_split(dataset['headline'], dataset['is_sarcastic'], test_size=0.2, random_state = 100)\n",
    "x_11, x_22, y_11, y_22 =  train_test_split(x_1, y_1, test_size=0.2, random_state = 100)"
   ]
  },
  {
   "cell_type": "markdown",
   "metadata": {},
   "source": [
    "### Apply vectorizer to train and test data"
   ]
  },
  {
   "cell_type": "code",
   "execution_count": 10,
   "metadata": {},
   "outputs": [],
   "source": [
    "vectorizer = TfidfVectorizer(min_df = 5, max_df = 0.8, sublinear_tf = True, analyzer='word',smooth_idf=True,use_idf=True)\n",
    "X_1 = vectorizer.fit_transform(x_11) #Train\n",
    "X_2 = vectorizer.transform(x_2) #Test\n",
    "X_3 = vectorizer.transform(x_22) #validate"
   ]
  },
  {
   "cell_type": "markdown",
   "metadata": {},
   "source": [
    "### Convert split data to dataframes and 2-D arrays"
   ]
  },
  {
   "cell_type": "code",
   "execution_count": 11,
   "metadata": {},
   "outputs": [
    {
     "name": "stdout",
     "output_type": "stream",
     "text": [
      "(17093, 4223)\n",
      "(5342, 4223)\n",
      "(4274, 4223)\n"
     ]
    }
   ],
   "source": [
    "X_1 = pd.DataFrame(X_1.toarray())\n",
    "print(X_1.shape)\n",
    "X_2 = pd.DataFrame(X_2.toarray())\n",
    "print(X_2.shape)\n",
    "X_3 = pd.DataFrame(X_3.toarray())\n",
    "print(X_3.shape)\n",
    "\n",
    "y_1 = y_1[:, np.newaxis]\n",
    "y_11 = y_11[:, np.newaxis]\n",
    "y_2 = y_2[:, np.newaxis]\n",
    "y_22 = y_22[:, np.newaxis]"
   ]
  },
  {
   "cell_type": "markdown",
   "metadata": {},
   "source": [
    "### Normalize training and testing data"
   ]
  },
  {
   "cell_type": "code",
   "execution_count": 12,
   "metadata": {},
   "outputs": [],
   "source": [
    "mean, standard_dev = n_params(X_1)\n",
    "x_1_norm = n_feat(X_1, mean, standard_dev)\n",
    "x_2_norm = n_feat(X_2, mean, standard_dev)\n",
    "x_3_norm = n_feat(X_3, mean, standard_dev)"
   ]
  },
  {
   "cell_type": "markdown",
   "metadata": {},
   "source": [
    "### Appending bias term to data"
   ]
  },
  {
   "cell_type": "code",
   "execution_count": 13,
   "metadata": {},
   "outputs": [],
   "source": [
    "x_1_norm_aug = append_bias_term(x_1_norm)\n",
    "x_2_norm_aug = append_bias_term(x_2_norm)\n",
    "x_3_norm_aug = append_bias_term(x_3_norm)"
   ]
  },
  {
   "cell_type": "markdown",
   "metadata": {},
   "source": [
    "### Create storage for error rates"
   ]
  },
  {
   "cell_type": "code",
   "execution_count": 14,
   "metadata": {},
   "outputs": [],
   "source": [
    "store_error_train = []\n",
    "store_error_validate = []"
   ]
  },
  {
   "cell_type": "markdown",
   "metadata": {},
   "source": [
    "### Run model for different alphas"
   ]
  },
  {
   "cell_type": "code",
   "execution_count": 21,
   "metadata": {},
   "outputs": [
    {
     "name": "stdout",
     "output_type": "stream",
     "text": [
      "alpha = 0.01\n",
      "emprical error for training(in %) = 10.554\n",
      "emprical error for validating(in %) = 16.963\n",
      "alpha = 0.05\n",
      "emprical error for training(in %) = 8.372\n",
      "emprical error for validating(in %) = 17.618\n",
      "alpha = 0.1\n",
      "emprical error for training(in %) = 7.453\n",
      "emprical error for validating(in %) = 18.203\n",
      "alpha = 0.2\n",
      "emprical error for training(in %) = 6.716\n",
      "emprical error for validating(in %) = 18.952\n"
     ]
    },
    {
     "data": {
      "image/png": "[encoded data removed]",
      "text/plain": [
       "<Figure size 432x288 with 1 Axes>"
      ]
     },
     "metadata": {
      "needs_background": "light"
     },
     "output_type": "display_data"
    },
    {
     "data": {
      "image/png": "[encoded data removed]",
      "text/plain": [
       "<Figure size 432x288 with 1 Axes>"
      ]
     },
     "metadata": {
      "needs_background": "light"
     },
     "output_type": "display_data"
    },
    {
     "data": {
      "image/png": "[encoded data removed]",
      "text/plain": [
       "<Figure size 432x288 with 1 Axes>"
      ]
     },
     "metadata": {
      "needs_background": "light"
     },
     "output_type": "display_data"
    },
    {
     "data": {
      "image/png": "[encoded data removed]",
      "text/plain": [
       "<Figure size 432x288 with 1 Axes>"
      ]
     },
     "metadata": {
      "needs_background": "light"
     },
     "output_type": "display_data"
    }
   ],
   "source": [
    "for c in [0.01, 0.05, 0.1, 0.2]:\n",
    "    \n",
    "    initial_thetas = np.zeros((x_1_norm_aug.shape[1],1))\n",
    "    learnt_thetas, J = param_learn(x_1_norm_aug, y_11, initial_thetas, h, alpha=c)\n",
    "    \n",
    "    train_predict = prediction_func(x_1_norm_aug, learnt_thetas, h)\n",
    "    test_predict = prediction_func(x_3_norm_aug, learnt_thetas, h)\n",
    "    \n",
    "    error_train = np.sum(y_11 != train_predict) / train_predict.shape[0]\n",
    "    error_validate = np.sum(y_22 != test_predict) / test_predict.shape[0]\n",
    "    \n",
    "    store_error_train.append(error_train)\n",
    "    store_error_validate.append(error_validate)\n",
    "    \n",
    "    print('alpha = {}'.format(c))\n",
    "    print('emprical error for training(in %) = {:.3f}'.format(error_train*100))\n",
    "    print('emprical error for validating(in %) = {:.3f}'.format(error_validate*100))\n",
    "\n",
    "    plt.figure()\n",
    "    plt.plot(np.arange(len(J)), J)\n",
    "    plt.xlabel('epoch #')\n",
    "    plt.ylabel(r'$J(\\Theta)$')\n",
    "    plt.title(r'$\\alpha={:.4f}$'.format(c));"
   ]
  },
  {
   "cell_type": "markdown",
   "metadata": {},
   "source": [
    "### Choose alpha that gives the lowest error and run model"
   ]
  },
  {
   "cell_type": "code",
   "execution_count": 28,
   "metadata": {},
   "outputs": [],
   "source": [
    "initial_thetas = np.zeros((x_1_norm_aug.shape[1],1))\n",
    "learnt_thetas, J = param_learn(x_1_norm_aug, y_11, initial_thetas, h, alpha=0.01)\n",
    "    \n",
    "train_predict = prediction_func(x_1_norm_aug, learnt_thetas, h)\n",
    "test_predict = prediction_func(x_2_norm_aug, learnt_thetas, h)"
   ]
  },
  {
   "cell_type": "markdown",
   "metadata": {},
   "source": [
    "### Confusion matrix"
   ]
  },
  {
   "cell_type": "code",
   "execution_count": 29,
   "metadata": {},
   "outputs": [
    {
     "name": "stdout",
     "output_type": "stream",
     "text": [
      "Confusion Matrix: \n",
      "[[2495  511]\n",
      " [ 441 1895]]\n"
     ]
    }
   ],
   "source": [
    "cm = confusion_matrix(y_2, test_predict)\n",
    "print(\"Confusion Matrix: \")\n",
    "print(cm)"
   ]
  },
  {
   "cell_type": "markdown",
   "metadata": {},
   "source": [
    "### Accuracy"
   ]
  },
  {
   "cell_type": "code",
   "execution_count": 30,
   "metadata": {},
   "outputs": [
    {
     "name": "stdout",
     "output_type": "stream",
     "text": [
      "Accuracy :  0.8217895919131412\n"
     ]
    }
   ],
   "source": [
    "ac = accuracy_score(y_2,test_predict)\n",
    "print (\"Accuracy : \", ac)"
   ]
  },
  {
   "cell_type": "markdown",
   "metadata": {},
   "source": [
    "### Recall"
   ]
  },
  {
   "cell_type": "code",
   "execution_count": 31,
   "metadata": {},
   "outputs": [
    {
     "name": "stdout",
     "output_type": "stream",
     "text": [
      "Recall:  0.8112157534246576\n"
     ]
    }
   ],
   "source": [
    "rs = recall_score(y_2, test_predict)\n",
    "print(\"Recall: \", rs)"
   ]
  },
  {
   "cell_type": "markdown",
   "metadata": {},
   "source": [
    "### Precision"
   ]
  },
  {
   "cell_type": "code",
   "execution_count": 32,
   "metadata": {},
   "outputs": [
    {
     "name": "stdout",
     "output_type": "stream",
     "text": [
      "Precision:  0.78761429758936\n"
     ]
    }
   ],
   "source": [
    "ps = precision_score(y_2, test_predict)\n",
    "print(\"Precision: \", ps)"
   ]
  },
  {
   "cell_type": "markdown",
   "metadata": {},
   "source": [
    "### f1_score"
   ]
  },
  {
   "cell_type": "code",
   "execution_count": 33,
   "metadata": {},
   "outputs": [
    {
     "name": "stdout",
     "output_type": "stream",
     "text": [
      "f1_score:  0.7992408266554197\n"
     ]
    }
   ],
   "source": [
    "f1 = f1_score(y_2, test_predict)\n",
    "print(\"f1_score: \", f1)"
   ]
  }
 ],
 "metadata": {
  "kernelspec": {
   "display_name": "Python 3",
   "language": "python",
   "name": "python3"
  },
  "language_info": {
   "codemirror_mode": {
    "name": "ipython",
    "version": 3
   },
   "file_extension": ".py",
   "mimetype": "text/x-python",
   "name": "python",
   "nbconvert_exporter": "python",
   "pygments_lexer": "ipython3",
   "version": "3.7.6"
  }
 },
 "nbformat": 4,
 "nbformat_minor": 4
}
