{
 "cells": [
  {
   "cell_type": "markdown",
   "metadata": {},
   "source": [
    "# SVM Built-in model for Sarcasm Detection"
   ]
  },
  {
   "cell_type": "markdown",
   "metadata": {},
   "source": [
    "### Import required libraries"
   ]
  },
  {
   "cell_type": "code",
   "execution_count": 1,
   "metadata": {},
   "outputs": [],
   "source": [
    "import numpy as np\n",
    "from math import exp\n",
    "import pandas as pd\n",
    "from sklearn.feature_extraction.text import TfidfVectorizer\n",
    "from sklearn.model_selection import train_test_split\n",
    "from sklearn.metrics import confusion_matrix\n",
    "from sklearn.metrics import accuracy_score\n",
    "from sklearn import svm\n",
    "from sklearn.metrics import classification_report"
   ]
  },
  {
   "cell_type": "markdown",
   "metadata": {},
   "source": [
    "### Read in and split data"
   ]
  },
  {
   "cell_type": "code",
   "execution_count": 2,
   "metadata": {},
   "outputs": [],
   "source": [
    "dataset = pd.read_csv('Pre-processed_Sarcasm_Headlines_Dataset.csv')\n",
    "x_1, x_2, y_1, y_2 = train_test_split(dataset['headline'], dataset['is_sarcastic'], test_size=0.25, random_state = 100)"
   ]
  },
  {
   "cell_type": "markdown",
   "metadata": {},
   "source": [
    "### Vectorize dataset"
   ]
  },
  {
   "cell_type": "code",
   "execution_count": 3,
   "metadata": {},
   "outputs": [],
   "source": [
    "vectorizer = TfidfVectorizer(min_df = 5, max_df = 0.8, sublinear_tf = True, use_idf = True)\n",
    "X_1 = vectorizer.fit_transform(x_1)\n",
    "X_2 = vectorizer.transform(x_2)"
   ]
  },
  {
   "cell_type": "markdown",
   "metadata": {},
   "source": [
    "### Change split data into dataframes"
   ]
  },
  {
   "cell_type": "code",
   "execution_count": 4,
   "metadata": {},
   "outputs": [],
   "source": [
    "x_1 = x_1[:, np.newaxis]\n",
    "x_1 = pd.DataFrame(x_1)\n",
    "x_1.columns = ['headline'] \n",
    "\n",
    "x_2 = x_2[:, np.newaxis]\n",
    "x_2 = pd.DataFrame(x_2)\n",
    "x_2.columns = ['headline']\n",
    "\n",
    "y_1 = y_1[:, np.newaxis]\n",
    "y_1 = pd.DataFrame(y_1)\n",
    "y_1.columns = ['is_sarcastic']\n",
    "\n",
    "y_2 = y_2[:, np.newaxis]\n",
    "y_2 = pd.DataFrame(y_2)\n",
    "y_2.columns = ['is_sarcastic']"
   ]
  },
  {
   "cell_type": "markdown",
   "metadata": {},
   "source": [
    "### Fit SVM and predict on test data"
   ]
  },
  {
   "cell_type": "code",
   "execution_count": 5,
   "metadata": {},
   "outputs": [],
   "source": [
    "classifier = svm.SVC(kernel='linear')\n",
    "classifier.fit(X_1, y_1['is_sarcastic'])\n",
    "prediction = classifier.predict(X_2)"
   ]
  },
  {
   "cell_type": "markdown",
   "metadata": {},
   "source": [
    "### Print model statistics"
   ]
  },
  {
   "cell_type": "code",
   "execution_count": 6,
   "metadata": {},
   "outputs": [
    {
     "name": "stdout",
     "output_type": "stream",
     "text": [
      "Accuracy: \n",
      "0.82869122491764\n",
      "positive:  {'precision': 0.8018169582772544, 'recall': 0.8110959836623554, 'f1-score': 0.806429780033841, 'support': 2938}\n",
      "negative:  {'precision': 0.8502428494333514, 'recall': 0.8425133689839572, 'f1-score': 0.8463604619930164, 'support': 3740}\n"
     ]
    }
   ],
   "source": [
    "print('Accuracy: ')\n",
    "print (accuracy_score(y_2, prediction))\n",
    "\n",
    "scores = classification_report(y_2['is_sarcastic'], prediction, output_dict=True)\n",
    "print('positive: ', scores['1'])\n",
    "print('negative: ', scores['0'])"
   ]
  }
 ],
 "metadata": {
  "kernelspec": {
   "display_name": "Python 3",
   "language": "python",
   "name": "python3"
  },
  "language_info": {
   "codemirror_mode": {
    "name": "ipython",
    "version": 3
   },
   "file_extension": ".py",
   "mimetype": "text/x-python",
   "name": "python",
   "nbconvert_exporter": "python",
   "pygments_lexer": "ipython3",
   "version": "3.7.6"
  }
 },
 "nbformat": 4,
 "nbformat_minor": 4
}
